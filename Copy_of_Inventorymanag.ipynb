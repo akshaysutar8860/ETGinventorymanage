{
  "nbformat": 4,
  "nbformat_minor": 0,
  "metadata": {
    "colab": {
      "name": "Copy of Inventorymanag.ipynb",
      "provenance": [],
      "collapsed_sections": []
    },
    "kernelspec": {
      "name": "python3",
      "display_name": "Python 3"
    },
    "language_info": {
      "name": "python"
    }
  },
  "cells": [
    {
      "cell_type": "code",
      "metadata": {
        "colab": {
          "base_uri": "https://localhost:8080/"
        },
        "id": "sr2lhoWq9grH",
        "outputId": "0daf3570-a9ab-4390-fa89-c18b79ed2128"
      },
      "source": [
        "record={10001:{\"name\":\"kitkat_choklate\",\"price\":10,\"exp_date\":\"3/4/2021\",\"aval_stoks\":120,\"online_pay_disc\":4},\n",
        "        10002:{\"name\":\"dairymilk_choklate\",\"price\":10,\"exp_date\":\"5/2/2021\",\"aval_stoks\":121,\"online_pay_disc\":14},\n",
        "        10003:{\"name\":\"parle_choklate\",\"price\":5,\"exp_date\":\"3/9/2021\",\"aval_stoks\":122,\"online_pay_disc\":8},\n",
        "        10004:{\"name\":\"parle_buiscuit\",\"price\":15,\"exp_date\":\"3/4/2021\",\"aval_stoks\":123,\"online_pay_disc\":8},\n",
        "        10005:{\"name\":\"orio_buiscuit\",\"price\":20,\"exp_date\":\"9/2/2021\",\"aval_stoks\":600,\"online_pay_disc\":1},\n",
        "        10006:{\"name\":\"marie_gold_buscuit\",\"price\":13,\"exp_date\":\"3/4/2021\",\"aval_stoks\":500,\"online_pay_disc\":4},\n",
        "        10007:{\"name\":\"parle_buiscuit\",\"price\":10,\"exp_date\":\"3/11/2021\",\"aval_stoks\":129,\"online_pay_disc\":3},\n",
        "        10008:{\"name\":\"patanjali_buiscuit\",\"price\":5,\"exp_date\":\"3/2/2021\",\"aval_stoks\":126,\"online_pay_disc\":6},\n",
        "        10009:{\"name\":\"britania_buiscuit\",\"price\":12,\"exp_date\":\"19/2/2021\",\"aval_stoks\":200,\"online_pay_disc\":3},\n",
        "        10010:{\"name\":\"20-20_cokkies\",\"price\":15,\"exp_date\":\"3/7/2021\",\"aval_stoks\":127,\"online_pay_disc\":9},\n",
        "        10011:{\"name\":\"pantine_shampoo\",\"price\":10,\"exp_date\":\"3/4/2021\",\"aval_stoks\":120,\"online_pay_disc\":4},        \n",
        "        10012:{\"name\":\"keshking_shampoo\",\"price\":5,\"exp_date\":\"3/9/2021\",\"aval_stoks\":122,\"online_pay_disc\":8},\n",
        "        10013:{\"name\":\"head&shoulder\",\"price\":15,\"exp_date\":\"3/4/2021\",\"aval_stoks\":123,\"online_pay_disc\":8},\n",
        "        10014:{\"name\":\"lorial_paris\",\"price\":20,\"exp_date\":\"9/2/2021\",\"aval_stoks\":600,\"online_pay_disc\":1},\n",
        "        10015:{\"name\":\"sunsilk\",\"price\":13,\"exp_date\":\"3/4/2021\",\"aval_stoks\":500,\"online_pay_disc\":4},\n",
        "        10016:{\"name\":\"clinic_plus\",\"price\":10,\"exp_date\":\"3/11/2021\",\"aval_stoks\":129,\"online_pay_disc\":3},\n",
        "        10017:{\"name\":\"vatika\",\"price\":5,\"exp_date\":\"3/2/2021\",\"aval_stoks\":126,\"online_pay_disc\":6},\n",
        "        10018:{\"name\":\"colgate\",\"price\":12,\"exp_date\":\"19/2/2021\",\"aval_stoks\":200,\"online_pay_disc\":3},\n",
        "        10019:{\"name\":\"dabur_red\",\"price\":15,\"exp_date\":\"3/7/2021\",\"aval_stoks\":127,\"online_pay_disc\":9},\n",
        "        10020:{\"name\":\"mesvak\",\"price\":10,\"exp_date\":\"3/4/2021\",\"aval_stoks\":120,\"online_pay_disc\":4},        \n",
        "        10021:{\"name\":\"babbol\",\"price\":5,\"exp_date\":\"3/9/2021\",\"aval_stoks\":122,\"online_pay_disc\":8},\n",
        "        10022:{\"name\":\"colgate_brush\",\"price\":15,\"exp_date\":\"3/4/2021\",\"aval_stoks\":123,\"online_pay_disc\":8},\n",
        "        10023:{\"name\":\"sanitizer\",\"price\":20,\"exp_date\":\"9/2/2021\",\"aval_stoks\":600,\"online_pay_disc\":1},\n",
        "        10024:{\"name\":\"mask\",\"price\":13,\"exp_date\":\"3/4/2021\",\"aval_stoks\":500,\"online_pay_disc\":4},\n",
        "        10025:{\"name\":\"parattot_oil\",\"price\":10,\"exp_date\":\"3/11/2021\",\"aval_stoks\":129,\"online_pay_disc\":3},\n",
        "        10026:{\"name\":\"basmati_rice _kg\",\"price\":5,\"exp_date\":\"3/2/2021\",\"aval_stoks\":126,\"online_pay_disc\":6},\n",
        "        10027:{\"name\":\"navratn\",\"price\":12,\"exp_date\":\"19/2/2021\",\"aval_stoks\":200,\"online_pay_disc\":3},\n",
        "        10028:{\"name\":\"vepors\",\"price\":15,\"exp_date\":\"3/7/2021\",\"aval_stoks\":127,\"online_pay_disc\":9},\n",
        "        10029:{\"name\":\"kurkure\",\"price\":12,\"exp_date\":\"19/2/2021\",\"aval_stoks\":200,\"online_pay_disc\":3},\n",
        "        10030:{\"name\":\"fevi_qvick\",\"price\":12,\"exp_date\":\"19/2/2021\",\"aval_stoks\":200,\"online_pay_disc\":3}\n",
        " \n",
        " \n",
        "       }\n",
        "print(record)"
      ],
      "execution_count": null,
      "outputs": [
        {
          "output_type": "stream",
          "name": "stdout",
          "text": [
            "{10001: {'name': 'kitkat_choklate', 'price': 10, 'exp_date': '3/4/2021', 'aval_stoks': 120, 'online_pay_disc': 4}, 10002: {'name': 'dairymilk_choklate', 'price': 10, 'exp_date': '5/2/2021', 'aval_stoks': 121, 'online_pay_disc': 14}, 10003: {'name': 'parle_choklate', 'price': 5, 'exp_date': '3/9/2021', 'aval_stoks': 122, 'online_pay_disc': 8}, 10004: {'name': 'parle_buiscuit', 'price': 15, 'exp_date': '3/4/2021', 'aval_stoks': 123, 'online_pay_disc': 8}, 10005: {'name': 'orio_buiscuit', 'price': 20, 'exp_date': '9/2/2021', 'aval_stoks': 600, 'online_pay_disc': 1}, 10006: {'name': 'marie_gold_buscuit', 'price': 13, 'exp_date': '3/4/2021', 'aval_stoks': 500, 'online_pay_disc': 4}, 10007: {'name': 'parle_buiscuit', 'price': 10, 'exp_date': '3/11/2021', 'aval_stoks': 129, 'online_pay_disc': 3}, 10008: {'name': 'patanjali_buiscuit', 'price': 5, 'exp_date': '3/2/2021', 'aval_stoks': 126, 'online_pay_disc': 6}, 10009: {'name': 'britania_buiscuit', 'price': 12, 'exp_date': '19/2/2021', 'aval_stoks': 200, 'online_pay_disc': 3}, 10010: {'name': '20-20_cokkies', 'price': 15, 'exp_date': '3/7/2021', 'aval_stoks': 127, 'online_pay_disc': 9}, 10011: {'name': 'pantine_shampoo', 'price': 10, 'exp_date': '3/4/2021', 'aval_stoks': 120, 'online_pay_disc': 4}, 10012: {'name': 'keshking_shampoo', 'price': 5, 'exp_date': '3/9/2021', 'aval_stoks': 122, 'online_pay_disc': 8}, 10013: {'name': 'head&shoulder', 'price': 15, 'exp_date': '3/4/2021', 'aval_stoks': 123, 'online_pay_disc': 8}, 10014: {'name': 'lorial_paris', 'price': 20, 'exp_date': '9/2/2021', 'aval_stoks': 600, 'online_pay_disc': 1}, 10015: {'name': 'sunsilk', 'price': 13, 'exp_date': '3/4/2021', 'aval_stoks': 500, 'online_pay_disc': 4}, 10016: {'name': 'clinic_plus', 'price': 10, 'exp_date': '3/11/2021', 'aval_stoks': 129, 'online_pay_disc': 3}, 10017: {'name': 'vatika', 'price': 5, 'exp_date': '3/2/2021', 'aval_stoks': 126, 'online_pay_disc': 6}, 10018: {'name': 'colgate', 'price': 12, 'exp_date': '19/2/2021', 'aval_stoks': 200, 'online_pay_disc': 3}, 10019: {'name': 'dabur_red', 'price': 15, 'exp_date': '3/7/2021', 'aval_stoks': 127, 'online_pay_disc': 9}, 10020: {'name': 'mesvak', 'price': 10, 'exp_date': '3/4/2021', 'aval_stoks': 120, 'online_pay_disc': 4}, 10021: {'name': 'babbol', 'price': 5, 'exp_date': '3/9/2021', 'aval_stoks': 122, 'online_pay_disc': 8}, 10022: {'name': 'colgate_brush', 'price': 15, 'exp_date': '3/4/2021', 'aval_stoks': 123, 'online_pay_disc': 8}, 10023: {'name': 'sanitizer', 'price': 20, 'exp_date': '9/2/2021', 'aval_stoks': 600, 'online_pay_disc': 1}, 10024: {'name': 'mask', 'price': 13, 'exp_date': '3/4/2021', 'aval_stoks': 500, 'online_pay_disc': 4}, 10025: {'name': 'parattot_oil', 'price': 10, 'exp_date': '3/11/2021', 'aval_stoks': 129, 'online_pay_disc': 3}, 10026: {'name': 'basmati_rice _kg', 'price': 5, 'exp_date': '3/2/2021', 'aval_stoks': 126, 'online_pay_disc': 6}, 10027: {'name': 'navratn', 'price': 12, 'exp_date': '19/2/2021', 'aval_stoks': 200, 'online_pay_disc': 3}, 10028: {'name': 'vepors', 'price': 15, 'exp_date': '3/7/2021', 'aval_stoks': 127, 'online_pay_disc': 9}, 10029: {'name': 'kurkure', 'price': 12, 'exp_date': '19/2/2021', 'aval_stoks': 200, 'online_pay_disc': 3}, 10030: {'name': 'fevi_qvick', 'price': 12, 'exp_date': '19/2/2021', 'aval_stoks': 200, 'online_pay_disc': 3}}\n"
          ]
        }
      ]
    },
    {
      "cell_type": "code",
      "metadata": {
        "colab": {
          "base_uri": "https://localhost:8080/"
        },
        "id": "ZUwHuzzaOkVR",
        "outputId": "42015f5c-de90-4096-b67d-3560c719931b"
      },
      "source": [
        "print(\"you can add repositary here\")\n",
        "last=10030\n",
        "print(\"the product I'd should be next of\"+str(last))\n",
        " \n",
        "npid=int(input(\"enter the product I'd\"))\n",
        "print(type (npid))\n",
        "nname=input(\"enter the product name\")\n",
        "nprice=input(\"enter price of product\")\n",
        "nexpdate=input(\"input the expiry date\")\n",
        "nstocks=input(\"enter the number of stocks\")\n",
        "ndisc=input(\"enter the new disc on product\")\n",
        "record[npid]={}\n",
        "record[npid][\"name\"]=nname\n",
        "record[npid][\"price\"]=nprice\n",
        "record[npid][\"exp_date\"]=nexpdate\n",
        "record[npid][\"aval_stoks\"]=nstocks\n",
        "record[npid][\"online_pay_disc\"]=ndisc"
      ],
      "execution_count": null,
      "outputs": [
        {
          "output_type": "stream",
          "name": "stdout",
          "text": [
            "you can add repositary here\n",
            "the product I'd should be next of10030\n",
            "enter the product I'd10031\n",
            "<class 'int'>\n",
            "enter the product nameVasoline\n",
            "enter price of product30\n",
            "input the expiry date11/11/2022\n",
            "enter the number of stocks777\n",
            "enter the new disc on product6\n",
            "{'10001': {'name': 'kitkat_choklate', 'price': 10, 'exp_date': '3/4/2021', 'aval_stoks': 120, 'online_pay_disc': 4}, '10002': {'name': 'dairymilk_choklate', 'price': 10, 'exp_date': '5/2/2021', 'aval_stoks': 121, 'online_pay_disc': 14}, '10003': {'name': 'parle_choklate', 'price': 5, 'exp_date': '3/9/2021', 'aval_stoks': 122, 'online_pay_disc': 8}, '10004': {'name': 'parle_buiscuit', 'price': 15, 'exp_date': '3/4/2021', 'aval_stoks': 122, 'online_pay_disc': 8}, '10005': {'name': 'orio_buiscuit', 'price': 20, 'exp_date': '9/2/2021', 'aval_stoks': 600, 'online_pay_disc': 1}, '10006': {'name': 'marie_gold_buscuit', 'price': 13, 'exp_date': '3/4/2021', 'aval_stoks': 500, 'online_pay_disc': 4}, '10007': {'name': 'parle_buiscuit', 'price': 10, 'exp_date': '3/11/2021', 'aval_stoks': 129, 'online_pay_disc': 3}, '10008': {'name': 'patanjali_buiscuit', 'price': 5, 'exp_date': '3/2/2021', 'aval_stoks': 126, 'online_pay_disc': 6}, '10009': {'name': 'britania_buiscuit', 'price': 12, 'exp_date': '19/2/2021', 'aval_stoks': 200, 'online_pay_disc': 3}, '10010': {'name': '20-20_cokkies', 'price': 15, 'exp_date': '3/7/2021', 'aval_stoks': 127, 'online_pay_disc': 9}, '10011': {'name': 'pantine_shampoo', 'price': 10, 'exp_date': '3/4/2021', 'aval_stoks': 120, 'online_pay_disc': 4}, '10012': {'name': 'keshking_shampoo', 'price': 5, 'exp_date': '3/9/2021', 'aval_stoks': 122, 'online_pay_disc': 8}, '10013': {'name': 'head&shoulder', 'price': 15, 'exp_date': '3/4/2021', 'aval_stoks': 123, 'online_pay_disc': 8}, '10014': {'name': 'lorial_paris', 'price': 20, 'exp_date': '9/2/2021', 'aval_stoks': 600, 'online_pay_disc': 1}, '10015': {'name': 'sunsilk', 'price': 13, 'exp_date': '3/4/2021', 'aval_stoks': 500, 'online_pay_disc': 4}, '10016': {'name': 'clinic_plus', 'price': 10, 'exp_date': '3/11/2021', 'aval_stoks': 129, 'online_pay_disc': 3}, '10017': {'name': 'vatika', 'price': 5, 'exp_date': '3/2/2021', 'aval_stoks': 126, 'online_pay_disc': 6}, '10018': {'name': 'colgate', 'price': 12, 'exp_date': '19/2/2021', 'aval_stoks': 200, 'online_pay_disc': 3}, '10019': {'name': 'dabur_red', 'price': 15, 'exp_date': '3/7/2021', 'aval_stoks': 127, 'online_pay_disc': 9}, '10020': {'name': 'mesvak', 'price': 10, 'exp_date': '3/4/2021', 'aval_stoks': 120, 'online_pay_disc': 4}, '10021': {'name': 'babbol', 'price': 5, 'exp_date': '3/9/2021', 'aval_stoks': 122, 'online_pay_disc': 8}, '10022': {'name': 'colgate_brush', 'price': 15, 'exp_date': '3/4/2021', 'aval_stoks': 123, 'online_pay_disc': 8}, '10023': {'name': 'sanitizer', 'price': 20, 'exp_date': '9/2/2021', 'aval_stoks': 600, 'online_pay_disc': 1}, '10024': {'name': 'mask', 'price': 13, 'exp_date': '3/4/2021', 'aval_stoks': 500, 'online_pay_disc': 4}, '10025': {'name': 'parattot_oil', 'price': 10, 'exp_date': '3/11/2021', 'aval_stoks': 129, 'online_pay_disc': 3}, '10026': {'name': 'basmati_rice _kg', 'price': 5, 'exp_date': '3/2/2021', 'aval_stoks': 126, 'online_pay_disc': 6}, '10027': {'name': 'navratn', 'price': 12, 'exp_date': '19/2/2021', 'aval_stoks': 200, 'online_pay_disc': 3}, '10028': {'name': 'vepors', 'price': 15, 'exp_date': '3/7/2021', 'aval_stoks': 127, 'online_pay_disc': 9}, '10029': {'name': 'kurkure', 'price': 12, 'exp_date': '19/2/2021', 'aval_stoks': 200, 'online_pay_disc': 3}, '10030': {'name': 'fevi_qvick', 'price': 12, 'exp_date': '19/2/2021', 'aval_stoks': 200, 'online_pay_disc': 3}, '10031': {'name': 'Vasoline', 'price': '30', 'exp_date': '14/7/2022', 'aval_stoks': 774, 'online_pay_disc': '5'}, 10031: {'name': 'Vasoline', 'price': '30', 'exp_date': '11/11/2022', 'aval_stoks': '777', 'online_pay_disc': '6'}}\n"
          ]
        }
      ]
    },
    {
      "cell_type": "code",
      "metadata": {
        "colab": {
          "base_uri": "https://localhost:8080/"
        },
        "id": "sjmKNtY9Uqom",
        "outputId": "3df71594-00e0-47f5-f7b7-18eb097dde90"
      },
      "source": [
        "id=int(input(\"input I'd\"))\n",
        "print(\"name of product =\"+record[id]['name'])\n",
        "print(\"the product will expire on=\"+record[id]['exp_date'])\n",
        "print(\"price is =\"+str(record[id]['price']))\n",
        "print(\"avalaible stocks are=\"+str(record[id]['aval_stoks']))\n",
        "print(\"discount on online payment in percent=\"+str(record[id]['online_pay_disc']))\n",
        "np=3*float(record[id]['price'])/100\n",
        "print(\"new price is =\"+str(float(record[id]['price'])-np))\n",
        "record[id]['aval_stoks']=int(record[id]['aval_stoks'])-1\n",
        "print(\"remaining stocks are\"+str(record[id]['aval_stoks']))"
      ],
      "execution_count": null,
      "outputs": [
        {
          "output_type": "stream",
          "name": "stdout",
          "text": [
            "input I'd10031\n",
            "name of product =Vasoline\n",
            "the product will expire on=11/11/2022\n",
            "price is =30\n",
            "avalaible stocks are=777\n",
            "discount on online payment in percent=6\n",
            "new price is =29.1\n",
            "remaining stocks are776\n"
          ]
        }
      ]
    },
    {
      "cell_type": "code",
      "metadata": {
        "colab": {
          "base_uri": "https://localhost:8080/"
        },
        "id": "tOHjWAx9kgjs",
        "outputId": "795b51aa-fae9-4f0c-8291-b49c8750b590"
      },
      "source": [
        " \n",
        "import time\n",
        "t=time.ctime()\n",
        "Na=str(record[id]['name'])\n",
        "print(Na)\n",
        "sails={\"pname\":Na,\"time\":t}\n",
        "print(sails)"
      ],
      "execution_count": null,
      "outputs": [
        {
          "output_type": "stream",
          "name": "stdout",
          "text": [
            "Vasoline\n",
            "{'pname': 'Vasoline', 'time': 'Sun Sep  5 16:39:31 2021'}\n"
          ]
        }
      ]
    },
    {
      "cell_type": "code",
      "metadata": {
        "id": "Vp8metvvBKhb"
      },
      "source": [
        "import json"
      ],
      "execution_count": null,
      "outputs": []
    },
    {
      "cell_type": "code",
      "metadata": {
        "id": "_fty5Ff_JdpQ"
      },
      "source": [
        "js=json.dumps(record)\n",
        "js2=json.dumps(sails)"
      ],
      "execution_count": null,
      "outputs": []
    },
    {
      "cell_type": "code",
      "metadata": {
        "id": "sLUThyuRKPmb"
      },
      "source": [
        "fd=open(\"record.json\",'w')\n",
        "fd.write(js)\n",
        "fd.close()"
      ],
      "execution_count": 106,
      "outputs": []
    },
    {
      "cell_type": "code",
      "metadata": {
        "id": "ooIEHpIan6dz"
      },
      "source": [
        " fd=open(\"record.json\",'r')\n",
        "text=fd.read()\n",
        "fd.close()"
      ],
      "execution_count": 107,
      "outputs": []
    },
    {
      "cell_type": "code",
      "metadata": {
        "id": "tVhYPE8tKs-z"
      },
      "source": [
        "fd1=open(\"sails.json\",'w')\n",
        "fd1.write(js2)\n",
        "fd1.close()"
      ],
      "execution_count": 110,
      "outputs": []
    },
    {
      "cell_type": "code",
      "metadata": {
        "id": "UDDoMpySPeEB"
      },
      "source": [
        "fd1=open(\"sails.json\",'r')\n",
        "text1=fd1.read()\n",
        "fd1.close()"
      ],
      "execution_count": 111,
      "outputs": []
    },
    {
      "cell_type": "code",
      "metadata": {
        "id": "0LM-MhEDPuVU"
      },
      "source": [
        "record=json.loads(text)\n",
        "sails=json.loads(text1)"
      ],
      "execution_count": 112,
      "outputs": []
    },
    {
      "cell_type": "code",
      "metadata": {
        "id": "I9dwiGjOPu_y",
        "colab": {
          "base_uri": "https://localhost:8080/"
        },
        "outputId": "08702b9f-155a-4d44-8de1-67ea33e85b23"
      },
      "source": [
        "print(record)\n",
        "print(sails)"
      ],
      "execution_count": 113,
      "outputs": [
        {
          "output_type": "stream",
          "name": "stdout",
          "text": [
            "{'10001': {'name': 'kitkat_choklate', 'price': 10, 'exp_date': '3/4/2021', 'aval_stoks': 120, 'online_pay_disc': 4}, '10002': {'name': 'dairymilk_choklate', 'price': 10, 'exp_date': '5/2/2021', 'aval_stoks': 121, 'online_pay_disc': 14}, '10003': {'name': 'parle_choklate', 'price': 5, 'exp_date': '3/9/2021', 'aval_stoks': 122, 'online_pay_disc': 8}, '10004': {'name': 'parle_buiscuit', 'price': 15, 'exp_date': '3/4/2021', 'aval_stoks': 122, 'online_pay_disc': 8}, '10005': {'name': 'orio_buiscuit', 'price': 20, 'exp_date': '9/2/2021', 'aval_stoks': 600, 'online_pay_disc': 1}, '10006': {'name': 'marie_gold_buscuit', 'price': 13, 'exp_date': '3/4/2021', 'aval_stoks': 500, 'online_pay_disc': 4}, '10007': {'name': 'parle_buiscuit', 'price': 10, 'exp_date': '3/11/2021', 'aval_stoks': 129, 'online_pay_disc': 3}, '10008': {'name': 'patanjali_buiscuit', 'price': 5, 'exp_date': '3/2/2021', 'aval_stoks': 126, 'online_pay_disc': 6}, '10009': {'name': 'britania_buiscuit', 'price': 12, 'exp_date': '19/2/2021', 'aval_stoks': 200, 'online_pay_disc': 3}, '10010': {'name': '20-20_cokkies', 'price': 15, 'exp_date': '3/7/2021', 'aval_stoks': 127, 'online_pay_disc': 9}, '10011': {'name': 'pantine_shampoo', 'price': 10, 'exp_date': '3/4/2021', 'aval_stoks': 120, 'online_pay_disc': 4}, '10012': {'name': 'keshking_shampoo', 'price': 5, 'exp_date': '3/9/2021', 'aval_stoks': 122, 'online_pay_disc': 8}, '10013': {'name': 'head&shoulder', 'price': 15, 'exp_date': '3/4/2021', 'aval_stoks': 123, 'online_pay_disc': 8}, '10014': {'name': 'lorial_paris', 'price': 20, 'exp_date': '9/2/2021', 'aval_stoks': 600, 'online_pay_disc': 1}, '10015': {'name': 'sunsilk', 'price': 13, 'exp_date': '3/4/2021', 'aval_stoks': 500, 'online_pay_disc': 4}, '10016': {'name': 'clinic_plus', 'price': 10, 'exp_date': '3/11/2021', 'aval_stoks': 129, 'online_pay_disc': 3}, '10017': {'name': 'vatika', 'price': 5, 'exp_date': '3/2/2021', 'aval_stoks': 126, 'online_pay_disc': 6}, '10018': {'name': 'colgate', 'price': 12, 'exp_date': '19/2/2021', 'aval_stoks': 200, 'online_pay_disc': 3}, '10019': {'name': 'dabur_red', 'price': 15, 'exp_date': '3/7/2021', 'aval_stoks': 127, 'online_pay_disc': 9}, '10020': {'name': 'mesvak', 'price': 10, 'exp_date': '3/4/2021', 'aval_stoks': 120, 'online_pay_disc': 4}, '10021': {'name': 'babbol', 'price': 5, 'exp_date': '3/9/2021', 'aval_stoks': 122, 'online_pay_disc': 8}, '10022': {'name': 'colgate_brush', 'price': 15, 'exp_date': '3/4/2021', 'aval_stoks': 123, 'online_pay_disc': 8}, '10023': {'name': 'sanitizer', 'price': 20, 'exp_date': '9/2/2021', 'aval_stoks': 600, 'online_pay_disc': 1}, '10024': {'name': 'mask', 'price': 13, 'exp_date': '3/4/2021', 'aval_stoks': 500, 'online_pay_disc': 4}, '10025': {'name': 'parattot_oil', 'price': 10, 'exp_date': '3/11/2021', 'aval_stoks': 129, 'online_pay_disc': 3}, '10026': {'name': 'basmati_rice _kg', 'price': 5, 'exp_date': '3/2/2021', 'aval_stoks': 126, 'online_pay_disc': 6}, '10027': {'name': 'navratn', 'price': 12, 'exp_date': '19/2/2021', 'aval_stoks': 200, 'online_pay_disc': 3}, '10028': {'name': 'vepors', 'price': 15, 'exp_date': '3/7/2021', 'aval_stoks': 127, 'online_pay_disc': 9}, '10029': {'name': 'kurkure', 'price': 12, 'exp_date': '19/2/2021', 'aval_stoks': 200, 'online_pay_disc': 3}, '10030': {'name': 'fevi_qvick', 'price': 12, 'exp_date': '19/2/2021', 'aval_stoks': 200, 'online_pay_disc': 3}, '10031': {'name': 'Vasoline', 'price': '30', 'exp_date': '11/11/2022', 'aval_stoks': 776, 'online_pay_disc': '6'}}\n",
            "{'pname': 'Vasoline', 'time': 'Sun Sep  5 16:39:31 2021'}\n"
          ]
        }
      ]
    }
  ]
}