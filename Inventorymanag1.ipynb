{
  "nbformat": 4,
  "nbformat_minor": 0,
  "metadata": {
    "colab": {
      "name": "Inventorymanag.ipynb",
      "provenance": [],
      "collapsed_sections": []
    },
    "kernelspec": {
      "name": "python3",
      "display_name": "Python 3"
    },
    "language_info": {
      "name": "python"
    }
  },
  "cells": [
    {
      "cell_type": "code",
      "metadata": {
        "colab": {
          "base_uri": "https://localhost:8080/"
        },
        "id": "sr2lhoWq9grH",
        "outputId": "60b46d62-4f3e-443e-8246-1f3980fca94a"
      },
      "source": [
        "record={10001:{\"name\":\"kitkat_choklate\",\"price\":10,\"exp_date\":\"3/4/2021\",\"aval_stoks\":120,\"online_pay_disc\":4},\n",
        "        10002:{\"name\":\"dairymilk_choklate\",\"price\":10,\"exp_date\":\"5/2/2021\",\"aval_stoks\":121,\"online_pay_disc\":14},\n",
        "        10003:{\"name\":\"parle_choklate\",\"price\":5,\"exp_date\":\"3/9/2021\",\"aval_stoks\":122,\"online_pay_disc\":8},\n",
        "        10004:{\"name\":\"parle_buiscuit\",\"price\":15,\"exp_date\":\"3/4/2021\",\"aval_stoks\":123,\"online_pay_disc\":8},\n",
        "        10005:{\"name\":\"orio_buiscuit\",\"price\":20,\"exp_date\":\"9/2/2021\",\"aval_stoks\":600,\"online_pay_disc\":1},\n",
        "        10006:{\"name\":\"marie_gold_buscuit\",\"price\":13,\"exp_date\":\"3/4/2021\",\"aval_stoks\":500,\"online_pay_disc\":4},\n",
        "        10007:{\"name\":\"parle_buiscuit\",\"price\":10,\"exp_date\":\"3/11/2021\",\"aval_stoks\":129,\"online_pay_disc\":3},\n",
        "        10008:{\"name\":\"patanjali_buiscuit\",\"price\":5,\"exp_date\":\"3/2/2021\",\"aval_stoks\":126,\"online_pay_disc\":6},\n",
        "        10009:{\"name\":\"britania_buiscuit\",\"price\":12,\"exp_date\":\"19/2/2021\",\"aval_stoks\":200,\"online_pay_disc\":3},\n",
        "        10010:{\"name\":\"20-20_cokkies\",\"price\":15,\"exp_date\":\"3/7/2021\",\"aval_stoks\":127,\"online_pay_disc\":9},\n",
        "        10011:{\"name\":\"pantine_shampoo\",\"price\":10,\"exp_date\":\"3/4/2021\",\"aval_stoks\":120,\"online_pay_disc\":4},        \n",
        "        10012:{\"name\":\"keshking_shampoo\",\"price\":5,\"exp_date\":\"3/9/2021\",\"aval_stoks\":122,\"online_pay_disc\":8},\n",
        "        10013:{\"name\":\"head&shoulder\",\"price\":15,\"exp_date\":\"3/4/2021\",\"aval_stoks\":123,\"online_pay_disc\":8},\n",
        "        10014:{\"name\":\"lorial_paris\",\"price\":20,\"exp_date\":\"9/2/2021\",\"aval_stoks\":600,\"online_pay_disc\":1},\n",
        "        10015:{\"name\":\"sunsilk\",\"price\":13,\"exp_date\":\"3/4/2021\",\"aval_stoks\":500,\"online_pay_disc\":4},\n",
        "        10016:{\"name\":\"clinic_plus\",\"price\":10,\"exp_date\":\"3/11/2021\",\"aval_stoks\":129,\"online_pay_disc\":3},\n",
        "        10017:{\"name\":\"vatika\",\"price\":5,\"exp_date\":\"3/2/2021\",\"aval_stoks\":126,\"online_pay_disc\":6},\n",
        "        10018:{\"name\":\"colgate\",\"price\":12,\"exp_date\":\"19/2/2021\",\"aval_stoks\":200,\"online_pay_disc\":3},\n",
        "        10019:{\"name\":\"dabur_red\",\"price\":15,\"exp_date\":\"3/7/2021\",\"aval_stoks\":127,\"online_pay_disc\":9},\n",
        "        10020:{\"name\":\"mesvak\",\"price\":10,\"exp_date\":\"3/4/2021\",\"aval_stoks\":120,\"online_pay_disc\":4},        \n",
        "        10021:{\"name\":\"babbol\",\"price\":5,\"exp_date\":\"3/9/2021\",\"aval_stoks\":122,\"online_pay_disc\":8},\n",
        "        10022:{\"name\":\"colgate_brush\",\"price\":15,\"exp_date\":\"3/4/2021\",\"aval_stoks\":123,\"online_pay_disc\":8},\n",
        "        10023:{\"name\":\"sanitizer\",\"price\":20,\"exp_date\":\"9/2/2021\",\"aval_stoks\":600,\"online_pay_disc\":1},\n",
        "        10024:{\"name\":\"mask\",\"price\":13,\"exp_date\":\"3/4/2021\",\"aval_stoks\":500,\"online_pay_disc\":4},\n",
        "        10025:{\"name\":\"parattot_oil\",\"price\":10,\"exp_date\":\"3/11/2021\",\"aval_stoks\":129,\"online_pay_disc\":3},\n",
        "        10026:{\"name\":\"basmati_rice _kg\",\"price\":5,\"exp_date\":\"3/2/2021\",\"aval_stoks\":126,\"online_pay_disc\":6},\n",
        "        10027:{\"name\":\"navratn\",\"price\":12,\"exp_date\":\"19/2/2021\",\"aval_stoks\":200,\"online_pay_disc\":3},\n",
        "        10028:{\"name\":\"vepors\",\"price\":15,\"exp_date\":\"3/7/2021\",\"aval_stoks\":127,\"online_pay_disc\":9},\n",
        "        10029:{\"name\":\"kurkure\",\"price\":12,\"exp_date\":\"19/2/2021\",\"aval_stoks\":200,\"online_pay_disc\":3},\n",
        "        10030:{\"name\":\"fevi_qvick\",\"price\":12,\"exp_date\":\"19/2/2021\",\"aval_stoks\":200,\"online_pay_disc\":3},\n",
        " \n",
        " \n",
        "       }\n",
        "print(record)"
      ],
      "execution_count": 1,
      "outputs": [
        {
          "output_type": "stream",
          "name": "stdout",
          "text": [
            "{10001: {'name': 'kitkat_choklate', 'price': 10, 'exp_date': '3/4/2021', 'aval_stoks': 120, 'online_pay_disc': 4}, 10002: {'name': 'dairymilk_choklate', 'price': 10, 'exp_date': '5/2/2021', 'aval_stoks': 121, 'online_pay_disc': 14}, 10003: {'name': 'parle_choklate', 'price': 5, 'exp_date': '3/9/2021', 'aval_stoks': 122, 'online_pay_disc': 8}, 10004: {'name': 'parle_buiscuit', 'price': 15, 'exp_date': '3/4/2021', 'aval_stoks': 123, 'online_pay_disc': 8}, 10005: {'name': 'orio_buiscuit', 'price': 20, 'exp_date': '9/2/2021', 'aval_stoks': 600, 'online_pay_disc': 1}, 10006: {'name': 'marie_gold_buscuit', 'price': 13, 'exp_date': '3/4/2021', 'aval_stoks': 500, 'online_pay_disc': 4}, 10007: {'name': 'parle_buiscuit', 'price': 10, 'exp_date': '3/11/2021', 'aval_stoks': 129, 'online_pay_disc': 3}, 10008: {'name': 'patanjali_buiscuit', 'price': 5, 'exp_date': '3/2/2021', 'aval_stoks': 126, 'online_pay_disc': 6}, 10009: {'name': 'britania_buiscuit', 'price': 12, 'exp_date': '19/2/2021', 'aval_stoks': 200, 'online_pay_disc': 3}, 10010: {'name': '20-20_cokkies', 'price': 15, 'exp_date': '3/7/2021', 'aval_stoks': 127, 'online_pay_disc': 9}, 10011: {'name': 'pantine_shampoo', 'price': 10, 'exp_date': '3/4/2021', 'aval_stoks': 120, 'online_pay_disc': 4}, 10012: {'name': 'keshking_shampoo', 'price': 5, 'exp_date': '3/9/2021', 'aval_stoks': 122, 'online_pay_disc': 8}, 10013: {'name': 'head&shoulder', 'price': 15, 'exp_date': '3/4/2021', 'aval_stoks': 123, 'online_pay_disc': 8}, 10014: {'name': 'lorial_paris', 'price': 20, 'exp_date': '9/2/2021', 'aval_stoks': 600, 'online_pay_disc': 1}, 10015: {'name': 'sunsilk', 'price': 13, 'exp_date': '3/4/2021', 'aval_stoks': 500, 'online_pay_disc': 4}, 10016: {'name': 'clinic_plus', 'price': 10, 'exp_date': '3/11/2021', 'aval_stoks': 129, 'online_pay_disc': 3}, 10017: {'name': 'vatika', 'price': 5, 'exp_date': '3/2/2021', 'aval_stoks': 126, 'online_pay_disc': 6}, 10018: {'name': 'colgate', 'price': 12, 'exp_date': '19/2/2021', 'aval_stoks': 200, 'online_pay_disc': 3}, 10019: {'name': 'dabur_red', 'price': 15, 'exp_date': '3/7/2021', 'aval_stoks': 127, 'online_pay_disc': 9}, 10020: {'name': 'mesvak', 'price': 10, 'exp_date': '3/4/2021', 'aval_stoks': 120, 'online_pay_disc': 4}, 10021: {'name': 'babbol', 'price': 5, 'exp_date': '3/9/2021', 'aval_stoks': 122, 'online_pay_disc': 8}, 10022: {'name': 'colgate_brush', 'price': 15, 'exp_date': '3/4/2021', 'aval_stoks': 123, 'online_pay_disc': 8}, 10023: {'name': 'sanitizer', 'price': 20, 'exp_date': '9/2/2021', 'aval_stoks': 600, 'online_pay_disc': 1}, 10024: {'name': 'mask', 'price': 13, 'exp_date': '3/4/2021', 'aval_stoks': 500, 'online_pay_disc': 4}, 10025: {'name': 'parattot_oil', 'price': 10, 'exp_date': '3/11/2021', 'aval_stoks': 129, 'online_pay_disc': 3}, 10026: {'name': 'basmati_rice _kg', 'price': 5, 'exp_date': '3/2/2021', 'aval_stoks': 126, 'online_pay_disc': 6}, 10027: {'name': 'navratn', 'price': 12, 'exp_date': '19/2/2021', 'aval_stoks': 200, 'online_pay_disc': 3}, 10028: {'name': 'vepors', 'price': 15, 'exp_date': '3/7/2021', 'aval_stoks': 127, 'online_pay_disc': 9}, 10029: {'name': 'kurkure', 'price': 12, 'exp_date': '19/2/2021', 'aval_stoks': 200, 'online_pay_disc': 3}, 10030: {'name': 'fevi_qvick', 'price': 12, 'exp_date': '19/2/2021', 'aval_stoks': 200, 'online_pay_disc': 3}}\n"
          ]
        }
      ]
    },
    {
      "cell_type": "code",
      "metadata": {
        "colab": {
          "base_uri": "https://localhost:8080/"
        },
        "id": "sjmKNtY9Uqom",
        "outputId": "6ad8168a-4ce6-4580-f166-fc16961157fe"
      },
      "source": [
        "id=int(input(\"input I'd\"))\n",
        "print(\"name of product =\"+record[id]['name'])\n",
        "print(\"the product will expire on=\"+record[id]['exp_date'])\n",
        "print(\"price is =\"+str(record[id]['price']))\n",
        "print(\"avalaible stocks are=\"+str(record[id]['aval_stoks']))\n",
        "print(\"discount on online payment=\"+str(record[id]['online_pay_disc']))\n",
        "print(\"if you pay using up\")\n",
        "np=3*record[id]['price']/100\n",
        "print(\"new price is =\"+str(record[id]['price']-np))"
      ],
      "execution_count": 2,
      "outputs": [
        {
          "output_type": "stream",
          "name": "stdout",
          "text": [
            "input I'd10027\n",
            "name of product =navratn\n",
            "the product will expire on=19/2/2021\n",
            "price is =12\n",
            "avalaible stocks are=200\n",
            "discount on online payment=3\n",
            "if you pay using up\n",
            "new price is =11.64\n"
          ]
        }
      ]
    },
    {
      "cell_type": "code",
      "metadata": {
        "colab": {
          "base_uri": "https://localhost:8080/"
        },
        "id": "_p79YU39fSzd",
        "outputId": "70d29e09-fa9c-4ad7-ac3e-538feb182a8b"
      },
      "source": [
        "record[id]['aval_stoks']=record[id]['aval_stoks']-1\n",
        "print(record[id]['aval_stoks'])"
      ],
      "execution_count": 4,
      "outputs": [
        {
          "output_type": "stream",
          "name": "stdout",
          "text": [
            "198\n"
          ]
        }
      ]
    },
    {
      "cell_type": "code",
      "metadata": {
        "colab": {
          "base_uri": "https://localhost:8080/"
        },
        "id": "tOHjWAx9kgjs",
        "outputId": "79ea94c1-bd85-4787-bc8f-e9a5c07a832e"
      },
      "source": [
        " \n",
        "import time\n",
        "t=time.ctime()\n",
        "Na=str(record[id]['name'])\n",
        "print(Na)\n",
        "sails={\"pname\":Na,\"time\":t}\n",
        "print(sails)"
      ],
      "execution_count": 6,
      "outputs": [
        {
          "output_type": "stream",
          "name": "stdout",
          "text": [
            "navratn\n",
            "{'pname': 'navratn', 'time': 'Fri Sep  3 13:36:02 2021'}\n"
          ]
        }
      ]
    },
    {
      "cell_type": "code",
      "metadata": {
        "id": "Vp8metvvBKhb"
      },
      "source": [
        "import json"
      ],
      "execution_count": 7,
      "outputs": []
    },
    {
      "cell_type": "code",
      "metadata": {
        "id": "_fty5Ff_JdpQ"
      },
      "source": [
        "js=json.dumps(record)\n",
        "js2=json.dumps(sails)"
      ],
      "execution_count": 8,
      "outputs": []
    },
    {
      "cell_type": "code",
      "metadata": {
        "id": "sLUThyuRKPmb"
      },
      "source": [
        "fd=open(\"record.json\",'w')\n",
        "fd.write(js)\n",
        "fd.close()"
      ],
      "execution_count": 9,
      "outputs": []
    },
    {
      "cell_type": "code",
      "metadata": {
        "id": "ooIEHpIan6dz"
      },
      "source": [
        " fd=open(\"record.json\",'r')\n",
        "text=fd.read()\n",
        "fd.close()"
      ],
      "execution_count": 10,
      "outputs": []
    },
    {
      "cell_type": "code",
      "metadata": {
        "id": "tVhYPE8tKs-z"
      },
      "source": [
        "fd1=open(\"sails.json\",'w')\n",
        "fd1.write(js2)\n",
        "fd1.close()"
      ],
      "execution_count": 11,
      "outputs": []
    },
    {
      "cell_type": "code",
      "metadata": {
        "id": "UDDoMpySPeEB"
      },
      "source": [
        "fd1=open(\"sails.json\",'r')\n",
        "text1=fd1.read()\n",
        "fd1.close()"
      ],
      "execution_count": 12,
      "outputs": []
    },
    {
      "cell_type": "code",
      "metadata": {
        "id": "0LM-MhEDPuVU"
      },
      "source": [
        "record=json.loads(text)\n",
        "sails=json.loads(text1)"
      ],
      "execution_count": 13,
      "outputs": []
    },
    {
      "cell_type": "code",
      "metadata": {
        "id": "I9dwiGjOPu_y",
        "colab": {
          "base_uri": "https://localhost:8080/"
        },
        "outputId": "6b0edbc5-a68e-4dde-ebd8-094d4d71c0b0"
      },
      "source": [
        "print(record)\n",
        "print(sails)"
      ],
      "execution_count": 14,
      "outputs": [
        {
          "output_type": "stream",
          "name": "stdout",
          "text": [
            "{'10001': {'name': 'kitkat_choklate', 'price': 10, 'exp_date': '3/4/2021', 'aval_stoks': 120, 'online_pay_disc': 4}, '10002': {'name': 'dairymilk_choklate', 'price': 10, 'exp_date': '5/2/2021', 'aval_stoks': 121, 'online_pay_disc': 14}, '10003': {'name': 'parle_choklate', 'price': 5, 'exp_date': '3/9/2021', 'aval_stoks': 122, 'online_pay_disc': 8}, '10004': {'name': 'parle_buiscuit', 'price': 15, 'exp_date': '3/4/2021', 'aval_stoks': 123, 'online_pay_disc': 8}, '10005': {'name': 'orio_buiscuit', 'price': 20, 'exp_date': '9/2/2021', 'aval_stoks': 600, 'online_pay_disc': 1}, '10006': {'name': 'marie_gold_buscuit', 'price': 13, 'exp_date': '3/4/2021', 'aval_stoks': 500, 'online_pay_disc': 4}, '10007': {'name': 'parle_buiscuit', 'price': 10, 'exp_date': '3/11/2021', 'aval_stoks': 129, 'online_pay_disc': 3}, '10008': {'name': 'patanjali_buiscuit', 'price': 5, 'exp_date': '3/2/2021', 'aval_stoks': 126, 'online_pay_disc': 6}, '10009': {'name': 'britania_buiscuit', 'price': 12, 'exp_date': '19/2/2021', 'aval_stoks': 200, 'online_pay_disc': 3}, '10010': {'name': '20-20_cokkies', 'price': 15, 'exp_date': '3/7/2021', 'aval_stoks': 127, 'online_pay_disc': 9}, '10011': {'name': 'pantine_shampoo', 'price': 10, 'exp_date': '3/4/2021', 'aval_stoks': 120, 'online_pay_disc': 4}, '10012': {'name': 'keshking_shampoo', 'price': 5, 'exp_date': '3/9/2021', 'aval_stoks': 122, 'online_pay_disc': 8}, '10013': {'name': 'head&shoulder', 'price': 15, 'exp_date': '3/4/2021', 'aval_stoks': 123, 'online_pay_disc': 8}, '10014': {'name': 'lorial_paris', 'price': 20, 'exp_date': '9/2/2021', 'aval_stoks': 600, 'online_pay_disc': 1}, '10015': {'name': 'sunsilk', 'price': 13, 'exp_date': '3/4/2021', 'aval_stoks': 500, 'online_pay_disc': 4}, '10016': {'name': 'clinic_plus', 'price': 10, 'exp_date': '3/11/2021', 'aval_stoks': 129, 'online_pay_disc': 3}, '10017': {'name': 'vatika', 'price': 5, 'exp_date': '3/2/2021', 'aval_stoks': 126, 'online_pay_disc': 6}, '10018': {'name': 'colgate', 'price': 12, 'exp_date': '19/2/2021', 'aval_stoks': 200, 'online_pay_disc': 3}, '10019': {'name': 'dabur_red', 'price': 15, 'exp_date': '3/7/2021', 'aval_stoks': 127, 'online_pay_disc': 9}, '10020': {'name': 'mesvak', 'price': 10, 'exp_date': '3/4/2021', 'aval_stoks': 120, 'online_pay_disc': 4}, '10021': {'name': 'babbol', 'price': 5, 'exp_date': '3/9/2021', 'aval_stoks': 122, 'online_pay_disc': 8}, '10022': {'name': 'colgate_brush', 'price': 15, 'exp_date': '3/4/2021', 'aval_stoks': 123, 'online_pay_disc': 8}, '10023': {'name': 'sanitizer', 'price': 20, 'exp_date': '9/2/2021', 'aval_stoks': 600, 'online_pay_disc': 1}, '10024': {'name': 'mask', 'price': 13, 'exp_date': '3/4/2021', 'aval_stoks': 500, 'online_pay_disc': 4}, '10025': {'name': 'parattot_oil', 'price': 10, 'exp_date': '3/11/2021', 'aval_stoks': 129, 'online_pay_disc': 3}, '10026': {'name': 'basmati_rice _kg', 'price': 5, 'exp_date': '3/2/2021', 'aval_stoks': 126, 'online_pay_disc': 6}, '10027': {'name': 'navratn', 'price': 12, 'exp_date': '19/2/2021', 'aval_stoks': 198, 'online_pay_disc': 3}, '10028': {'name': 'vepors', 'price': 15, 'exp_date': '3/7/2021', 'aval_stoks': 127, 'online_pay_disc': 9}, '10029': {'name': 'kurkure', 'price': 12, 'exp_date': '19/2/2021', 'aval_stoks': 200, 'online_pay_disc': 3}, '10030': {'name': 'fevi_qvick', 'price': 12, 'exp_date': '19/2/2021', 'aval_stoks': 200, 'online_pay_disc': 3}}\n",
            "{'pname': 'navratn', 'time': 'Fri Sep  3 13:36:02 2021'}\n"
          ]
        }
      ]
    },
    {
      "cell_type": "code",
      "metadata": {
        "colab": {
          "base_uri": "https://localhost:8080/"
        },
        "id": "4_KfUxFKRlwL",
        "outputId": "cc77de9c-0449-4dda-fa5d-d1a1543df1dd"
      },
      "source": [
        " \n",
        "type(sails)"
      ],
      "execution_count": null,
      "outputs": [
        {
          "output_type": "execute_result",
          "data": {
            "text/plain": [
              "dict"
            ]
          },
          "metadata": {},
          "execution_count": 34
        }
      ]
    }
  ]
}